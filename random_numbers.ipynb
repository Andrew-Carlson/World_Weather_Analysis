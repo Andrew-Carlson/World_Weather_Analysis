{
 "cells": [
  {
   "cell_type": "code",
   "execution_count": 1,
   "id": "7de39600-9cc9-4ef7-86e7-5318ef552a55",
   "metadata": {},
   "outputs": [],
   "source": [
    "# import random module\n",
    "\n",
    "import random"
   ]
  },
  {
   "cell_type": "code",
   "execution_count": 2,
   "id": "f917f4d7-bbd5-4f43-9c98-192158cbda46",
   "metadata": {},
   "outputs": [
    {
     "data": {
      "text/plain": [
       "-54"
      ]
     },
     "execution_count": 2,
     "metadata": {},
     "output_type": "execute_result"
    }
   ],
   "source": [
    "random.randint(-90, 90)"
   ]
  },
  {
   "cell_type": "code",
   "execution_count": 3,
   "id": "6da39643-2930-4dd8-bd17-57cf82a3b861",
   "metadata": {},
   "outputs": [
    {
     "data": {
      "text/plain": [
       "-60.260162694691324"
      ]
     },
     "execution_count": 3,
     "metadata": {},
     "output_type": "execute_result"
    }
   ],
   "source": [
    "# Generate random number\n",
    "\n",
    "random_number = random.randint(-90, 89) + random.random()\n",
    "random_number"
   ]
  },
  {
   "cell_type": "code",
   "execution_count": 4,
   "id": "760aa98a-a110-498a-a8a4-ca7ebe6975d7",
   "metadata": {},
   "outputs": [
    {
     "data": {
      "text/plain": [
       "[88.49348123263837,\n",
       " -89.72332709303925,\n",
       " 56.38461577174664,\n",
       " 69.50839782555828,\n",
       " 54.71940292482715,\n",
       " -51.46772331413226,\n",
       " -85.59566353149924,\n",
       " 39.174112852046676,\n",
       " 87.00930847285126,\n",
       " -2.9936028590419923]"
      ]
     },
     "execution_count": 4,
     "metadata": {},
     "output_type": "execute_result"
    }
   ],
   "source": [
    "# create a list of 10 latitudes\n",
    "\n",
    "x = 1\n",
    "\n",
    "latitudes = []\n",
    "\n",
    "while x < 11:\n",
    "    random_latitude = random.randint(-90, 89) + random.random()\n",
    "    \n",
    "    latitudes.append(random_latitude)\n",
    "    \n",
    "    x += 1\n",
    "    \n",
    "latitudes"
   ]
  },
  {
   "cell_type": "code",
   "execution_count": 5,
   "id": "35d9cace-6b3f-4fde-838c-87c645c55301",
   "metadata": {},
   "outputs": [
    {
     "data": {
      "text/plain": [
       "-30"
      ]
     },
     "execution_count": 5,
     "metadata": {},
     "output_type": "execute_result"
    }
   ],
   "source": [
    "# generate random integer \n",
    "\n",
    "random_integer = random.randrange(-90,90, step = 3)\n",
    "random_integer"
   ]
  },
  {
   "cell_type": "code",
   "execution_count": 6,
   "id": "c0eddfef-32ab-4e5c-8d92-e57fcc52fa69",
   "metadata": {},
   "outputs": [
    {
     "data": {
      "text/plain": [
       "31.976291205119765"
      ]
     },
     "execution_count": 6,
     "metadata": {},
     "output_type": "execute_result"
    }
   ],
   "source": [
    "# generate floating-point decimal number\n",
    "\n",
    "random_float = random.uniform(-90, 90)\n",
    "\n",
    "random_float"
   ]
  },
  {
   "cell_type": "code",
   "execution_count": 7,
   "id": "091ebde3-7859-4953-8a99-3fd2bb73c66f",
   "metadata": {},
   "outputs": [],
   "source": [
    "# Import the NumPy module.\n",
    "import numpy as np"
   ]
  },
  {
   "cell_type": "code",
   "execution_count": 8,
   "id": "3d1e4a25-9ccb-4545-9095-2bb72b0a874b",
   "metadata": {},
   "outputs": [],
   "source": [
    "# numpy contains random module and random does not need to be imported if numpy is imported"
   ]
  },
  {
   "cell_type": "code",
   "execution_count": 9,
   "id": "d89d4283-97a6-4d92-b2e2-684de3820a83",
   "metadata": {},
   "outputs": [
    {
     "data": {
      "text/plain": [
       "-31.119662298991003"
      ]
     },
     "execution_count": 9,
     "metadata": {},
     "output_type": "execute_result"
    }
   ],
   "source": [
    "np.random.uniform(-90, 90)"
   ]
  },
  {
   "cell_type": "code",
   "execution_count": 10,
   "id": "9192bcc1-6b6c-468e-98e7-e303dff32899",
   "metadata": {},
   "outputs": [
    {
     "data": {
      "text/plain": [
       "array([-80.42846781, -88.36195549, -17.12092802, -65.95444189,\n",
       "       -59.48394137,  39.46459785,  32.86636944,  26.49063964,\n",
       "        36.73123939,  69.82456746,  33.73876133,  64.89100679,\n",
       "        47.62745044,  22.99621672,  83.9917124 , -69.30775731,\n",
       "        36.51777484,  -5.83719763, -65.48566761, -41.41274406,\n",
       "        60.71338983,  63.14566188,   6.56764658,  35.43349811,\n",
       "        74.63321969,  80.01174389, -30.52027343,  64.88006422,\n",
       "        50.64803591,  20.74231313,  35.01807961,  13.57659063,\n",
       "       -56.54426598,  65.19457051,  19.30576079,  28.64338309,\n",
       "       -33.63650431,  53.69521141, -55.78423619, -44.3605682 ,\n",
       "         3.82811044,  66.67123797,  86.57121215,   0.67977612,\n",
       "        33.35509671, -51.47059576, -21.08344886,  35.45639434,\n",
       "        70.4102108 ,  51.80847431])"
      ]
     },
     "execution_count": 10,
     "metadata": {},
     "output_type": "execute_result"
    }
   ],
   "source": [
    "# make an array of 50 floating-point decimal numbers between -90.000 and 90.000.\n",
    "\n",
    "np.random.uniform(-90.000, 90.000, size = 50)"
   ]
  },
  {
   "cell_type": "code",
   "execution_count": 11,
   "id": "939684ee-e0c7-4c2f-a041-8f8ebb634eb6",
   "metadata": {},
   "outputs": [],
   "source": [
    "# Check how long it takes to generate latitudes using this method vs while loop \n",
    "# import timeit\n",
    "import timeit"
   ]
  },
  {
   "cell_type": "code",
   "execution_count": 12,
   "id": "af51bdf8-cc67-46cf-a301-7063149558c9",
   "metadata": {},
   "outputs": [
    {
     "name": "stdout",
     "output_type": "stream",
     "text": [
      "17.2 µs ± 4.11 µs per loop (mean ± std. dev. of 7 runs, 100000 loops each)\n"
     ]
    }
   ],
   "source": [
    "# use timeit magic command\n",
    "%timeit np.random.uniform(-90.000, 90.000, size=1500)"
   ]
  },
  {
   "cell_type": "code",
   "execution_count": 13,
   "id": "b900058e-3d7c-4158-9520-6ff78d58b5ed",
   "metadata": {},
   "outputs": [],
   "source": [
    "def latitudes(size):\n",
    "    \n",
    "    latitudes = []\n",
    "    \n",
    "    x = 0 \n",
    "    \n",
    "    while x < size:\n",
    "        \n",
    "        random_latitude = random.randint(-90, 90) + random.random()\n",
    "        \n",
    "        latitudes.append(random_latitude)\n",
    "        \n",
    "        x += 1\n",
    "        \n",
    "    return latitudes"
   ]
  },
  {
   "cell_type": "code",
   "execution_count": 14,
   "id": "8cf4bc21-1ae9-4711-9b69-20b97a487fcd",
   "metadata": {},
   "outputs": [
    {
     "name": "stdout",
     "output_type": "stream",
     "text": [
      "2.36 ms ± 357 µs per loop (mean ± std. dev. of 7 runs, 100 loops each)\n"
     ]
    }
   ],
   "source": [
    "# Call the function with 1500.\n",
    "%timeit latitudes(1500)"
   ]
  },
  {
   "cell_type": "code",
   "execution_count": null,
   "id": "9905297f-d278-4174-b3c3-7ea25bcac040",
   "metadata": {},
   "outputs": [],
   "source": []
  }
 ],
 "metadata": {
  "kernelspec": {
   "display_name": "PythonData",
   "language": "python",
   "name": "pythondata"
  },
  "language_info": {
   "codemirror_mode": {
    "name": "ipython",
    "version": 3
   },
   "file_extension": ".py",
   "mimetype": "text/x-python",
   "name": "python",
   "nbconvert_exporter": "python",
   "pygments_lexer": "ipython3",
   "version": "3.7.13"
  }
 },
 "nbformat": 4,
 "nbformat_minor": 5
}
